{
  "cells": [
    {
      "cell_type": "markdown",
      "metadata": {
        "id": "view-in-github",
        "colab_type": "text"
      },
      "source": [
        "<a href=\"https://colab.research.google.com/github/ydev365/statistical_analysis/blob/main/chap05.ipynb\" target=\"_parent\"><img src=\"https://colab.research.google.com/assets/colab-badge.svg\" alt=\"Open In Colab\"/></a>"
      ]
    },
    {
      "cell_type": "markdown",
      "metadata": {
        "id": "QDzcphjOt_zP"
      },
      "source": [
        "# 이산형 확률분포"
      ]
    },
    {
      "cell_type": "markdown",
      "metadata": {
        "id": "Yye1kNmft_zU"
      },
      "source": [
        "## 1차원 이산형 확률분포"
      ]
    },
    {
      "cell_type": "code",
      "execution_count": 1,
      "metadata": {
        "ExecuteTime": {
          "end_time": "2018-08-07T04:43:23.771523Z",
          "start_time": "2018-08-07T04:43:23.575758Z"
        },
        "id": "fHqYTKEUt_zV"
      },
      "outputs": [],
      "source": [
        "import numpy as np\n",
        "import matplotlib.pyplot as plt\n",
        "\n",
        "%precision 3\n",
        "%matplotlib inline"
      ]
    },
    {
      "cell_type": "markdown",
      "metadata": {
        "id": "KqXosHLBt_zW"
      },
      "source": [
        "### 1차원 이산확률분포의 정의"
      ]
    },
    {
      "cell_type": "code",
      "execution_count": 2,
      "metadata": {
        "ExecuteTime": {
          "end_time": "2018-08-07T04:43:23.775156Z",
          "start_time": "2018-08-07T04:43:23.772847Z"
        },
        "id": "Yl5I9jd3t_zX"
      },
      "outputs": [],
      "source": [
        "x_set = np.array([1, 2, 3, 4, 5, 6])"
      ]
    },
    {
      "cell_type": "code",
      "execution_count": 3,
      "metadata": {
        "ExecuteTime": {
          "end_time": "2018-08-07T04:43:23.779344Z",
          "start_time": "2018-08-07T04:43:23.776685Z"
        },
        "id": "dZaO3gpft_zX"
      },
      "outputs": [],
      "source": [
        "def f(x):\n",
        "    if x in x_set:\n",
        "        return x / 21\n",
        "    else:\n",
        "        return 0"
      ]
    },
    {
      "cell_type": "code",
      "execution_count": 4,
      "metadata": {
        "ExecuteTime": {
          "end_time": "2018-08-07T04:43:23.783380Z",
          "start_time": "2018-08-07T04:43:23.780556Z"
        },
        "id": "iBiFAiKmt_zY"
      },
      "outputs": [],
      "source": [
        "X = [x_set, f]"
      ]
    },
    {
      "cell_type": "code",
      "execution_count": 5,
      "metadata": {
        "ExecuteTime": {
          "end_time": "2018-08-07T04:43:23.795835Z",
          "start_time": "2018-08-07T04:43:23.784515Z"
        },
        "colab": {
          "base_uri": "https://localhost:8080/"
        },
        "id": "NePqD6tPt_zZ",
        "outputId": "e6f97acc-3cd0-473e-ac10-571ad1136afe"
      },
      "outputs": [
        {
          "output_type": "execute_result",
          "data": {
            "text/plain": [
              "{np.int64(1): np.float64(0.047619047619047616),\n",
              " np.int64(2): np.float64(0.09523809523809523),\n",
              " np.int64(3): np.float64(0.14285714285714285),\n",
              " np.int64(4): np.float64(0.19047619047619047),\n",
              " np.int64(5): np.float64(0.23809523809523808),\n",
              " np.int64(6): np.float64(0.2857142857142857)}"
            ]
          },
          "metadata": {},
          "execution_count": 5
        }
      ],
      "source": [
        "# 확률 p_k를 구한다\n",
        "prob = np.array([f(x_k) for x_k in x_set])\n",
        "# x_k와 p_k의 대응을 사전식으로 표시\n",
        "dict(zip(x_set, prob))"
      ]
    },
    {
      "cell_type": "code",
      "execution_count": 6,
      "metadata": {
        "ExecuteTime": {
          "end_time": "2018-08-07T04:43:23.911086Z",
          "start_time": "2018-08-07T04:43:23.796855Z"
        },
        "colab": {
          "base_uri": "https://localhost:8080/",
          "height": 547
        },
        "id": "lpVtlAy1t_za",
        "outputId": "e4647de3-ebeb-40a2-d7c6-a78179dabaaf"
      },
      "outputs": [
        {
          "output_type": "display_data",
          "data": {
            "text/plain": [
              "<Figure size 1000x600 with 1 Axes>"
            ],
            "image/png": "[encoded data removed]"
          },
          "metadata": {}
        }
      ],
      "source": [
        "fig = plt.figure(figsize=(10, 6))\n",
        "ax = fig.add_subplot(111)\n",
        "ax.bar(x_set, prob)\n",
        "ax.set_xlabel('value')\n",
        "ax.set_ylabel('probability')\n",
        "\n",
        "plt.show()"
      ]
    },
    {
      "cell_type": "code",
      "execution_count": 7,
      "metadata": {
        "ExecuteTime": {
          "end_time": "2018-08-07T04:43:23.915961Z",
          "start_time": "2018-08-07T04:43:23.912531Z"
        },
        "colab": {
          "base_uri": "https://localhost:8080/"
        },
        "id": "muV7-8WSt_za",
        "outputId": "8c21a537-2714-49f9-c32b-6c98211009d6"
      },
      "outputs": [
        {
          "output_type": "execute_result",
          "data": {
            "text/plain": [
              "np.True_"
            ]
          },
          "metadata": {},
          "execution_count": 7
        }
      ],
      "source": [
        "np.all(prob >= 0)"
      ]
    },
    {
      "cell_type": "code",
      "execution_count": 8,
      "metadata": {
        "ExecuteTime": {
          "end_time": "2018-08-07T04:43:23.920725Z",
          "start_time": "2018-08-07T04:43:23.917448Z"
        },
        "colab": {
          "base_uri": "https://localhost:8080/"
        },
        "id": "_oQ89QKXt_zb",
        "outputId": "f36b0592-195e-46bc-e2af-8843bbe01889"
      },
      "outputs": [
        {
          "output_type": "execute_result",
          "data": {
            "text/plain": [
              "np.float64(0.9999999999999999)"
            ]
          },
          "metadata": {},
          "execution_count": 8
        }
      ],
      "source": [
        "np.sum(prob)"
      ]
    },
    {
      "cell_type": "code",
      "execution_count": null,
      "metadata": {
        "ExecuteTime": {
          "end_time": "2018-08-07T04:43:23.924982Z",
          "start_time": "2018-08-07T04:43:23.922208Z"
        },
        "id": "9RAsNcw5t_zb"
      },
      "outputs": [],
      "source": [
        "def F(x):\n",
        "    return np.sum([f(x_k) for x_k in x_set if x_k <= x])"
      ]
    },
    {
      "cell_type": "code",
      "execution_count": null,
      "metadata": {
        "ExecuteTime": {
          "end_time": "2018-08-07T04:43:23.935804Z",
          "start_time": "2018-08-07T04:43:23.926354Z"
        },
        "id": "jWz0AXcat_zb",
        "outputId": "672c2a33-b2e2-459b-f4b6-15f743b88b37"
      },
      "outputs": [
        {
          "data": {
            "text/plain": [
              "0.2857142857142857"
            ]
          },
          "execution_count": 11,
          "metadata": {},
          "output_type": "execute_result"
        }
      ],
      "source": [
        "F(3)"
      ]
    },
    {
      "cell_type": "code",
      "execution_count": null,
      "metadata": {
        "ExecuteTime": {
          "end_time": "2018-08-06T11:25:17.697148Z",
          "start_time": "2018-08-06T11:25:17.692368Z"
        },
        "id": "tOzKAzOJt_zc",
        "outputId": "cbd6fa46-5d5f-4518-93d5-0941554821b9"
      },
      "outputs": [
        {
          "data": {
            "text/plain": [
              "{5: 0.047619047619047616,\n",
              " 7: 0.09523809523809523,\n",
              " 9: 0.14285714285714285,\n",
              " 11: 0.19047619047619047,\n",
              " 13: 0.23809523809523808,\n",
              " 15: 0.2857142857142857}"
            ]
          },
          "execution_count": 12,
          "metadata": {},
          "output_type": "execute_result"
        }
      ],
      "source": [
        "y_set = np.array([2 * x_k + 3 for x_k in x_set])\n",
        "prob = np.array([f(x_k) for x_k in x_set])\n",
        "dict(zip(y_set, prob))"
      ]
    },
    {
      "cell_type": "markdown",
      "metadata": {
        "id": "Y_A2_pc3t_zc"
      },
      "source": [
        "### 1차원 이산형 확률변수의 지표"
      ]
    },
    {
      "cell_type": "markdown",
      "metadata": {
        "id": "SHhSOF0ut_zc"
      },
      "source": [
        "#### 평균"
      ]
    },
    {
      "cell_type": "code",
      "execution_count": null,
      "metadata": {
        "ExecuteTime": {
          "end_time": "2018-08-06T11:25:17.701479Z",
          "start_time": "2018-08-06T11:25:17.698316Z"
        },
        "id": "aRNcmgVWt_zc",
        "outputId": "5f1fdfdb-9a94-4853-d00b-e1745ab97d3d"
      },
      "outputs": [
        {
          "data": {
            "text/plain": [
              "4.333333333333333"
            ]
          },
          "execution_count": 13,
          "metadata": {},
          "output_type": "execute_result"
        }
      ],
      "source": [
        "np.sum([x_k * f(x_k) for x_k in x_set])"
      ]
    },
    {
      "cell_type": "code",
      "execution_count": null,
      "metadata": {
        "ExecuteTime": {
          "end_time": "2018-08-06T11:25:17.737094Z",
          "start_time": "2018-08-06T11:25:17.702621Z"
        },
        "id": "pk6Xa168t_zd",
        "outputId": "62f6ab0d-58f5-402f-b910-1dd3002d7d4e"
      },
      "outputs": [
        {
          "data": {
            "text/plain": [
              "4.334756"
            ]
          },
          "execution_count": 14,
          "metadata": {},
          "output_type": "execute_result"
        }
      ],
      "source": [
        "sample = np.random.choice(x_set, int(1e6), p=prob)\n",
        "np.mean(sample)"
      ]
    },
    {
      "cell_type": "code",
      "execution_count": null,
      "metadata": {
        "ExecuteTime": {
          "end_time": "2018-08-06T11:25:17.740722Z",
          "start_time": "2018-08-06T11:25:17.738306Z"
        },
        "id": "FDqYj5aAt_zd"
      },
      "outputs": [],
      "source": [
        "def E(X, g=lambda x: x):\n",
        "    x_set, f = X\n",
        "    return np.sum([g(x_k) * f(x_k) for x_k in x_set])"
      ]
    },
    {
      "cell_type": "code",
      "execution_count": null,
      "metadata": {
        "ExecuteTime": {
          "end_time": "2018-08-06T11:25:17.745675Z",
          "start_time": "2018-08-06T11:25:17.741807Z"
        },
        "id": "5u-buf_Qt_zd",
        "outputId": "49b96a58-730e-4f1d-ab23-f6b693326b21"
      },
      "outputs": [
        {
          "data": {
            "text/plain": [
              "4.333333333333333"
            ]
          },
          "execution_count": 16,
          "metadata": {},
          "output_type": "execute_result"
        }
      ],
      "source": [
        "E(X)"
      ]
    },
    {
      "cell_type": "code",
      "execution_count": null,
      "metadata": {
        "ExecuteTime": {
          "end_time": "2018-08-06T11:25:17.750269Z",
          "start_time": "2018-08-06T11:25:17.746911Z"
        },
        "id": "B6eMCVdRt_zd",
        "outputId": "bda7d211-a86e-48ed-c262-97ba29b81c21"
      },
      "outputs": [
        {
          "data": {
            "text/plain": [
              "11.666666666666664"
            ]
          },
          "execution_count": 17,
          "metadata": {},
          "output_type": "execute_result"
        }
      ],
      "source": [
        "E(X, g=lambda x: 2*x + 3)"
      ]
    },
    {
      "cell_type": "code",
      "execution_count": null,
      "metadata": {
        "ExecuteTime": {
          "end_time": "2018-08-06T11:25:17.754447Z",
          "start_time": "2018-08-06T11:25:17.751181Z"
        },
        "id": "uScxxkdYt_zd",
        "outputId": "11231a30-f0c3-4265-d1c0-507a4e15459c"
      },
      "outputs": [
        {
          "data": {
            "text/plain": [
              "11.666666666666666"
            ]
          },
          "execution_count": 18,
          "metadata": {},
          "output_type": "execute_result"
        }
      ],
      "source": [
        "2 * E(X) + 3"
      ]
    },
    {
      "cell_type": "markdown",
      "metadata": {
        "id": "94Vkauh2t_ze"
      },
      "source": [
        "#### 분산"
      ]
    },
    {
      "cell_type": "code",
      "execution_count": null,
      "metadata": {
        "ExecuteTime": {
          "end_time": "2018-08-06T11:25:17.759274Z",
          "start_time": "2018-08-06T11:25:17.755396Z"
        },
        "id": "NGsfQXaIt_ze",
        "outputId": "3b5a97ae-2575-42ab-c9e8-1c4b4914da3f"
      },
      "outputs": [
        {
          "data": {
            "text/plain": [
              "2.2222222222222223"
            ]
          },
          "execution_count": 19,
          "metadata": {},
          "output_type": "execute_result"
        }
      ],
      "source": [
        "mean = E(X)\n",
        "np.sum([(x_k-mean)**2 * f(x_k) for x_k in x_set])"
      ]
    },
    {
      "cell_type": "code",
      "execution_count": null,
      "metadata": {
        "ExecuteTime": {
          "end_time": "2018-08-06T11:25:17.763465Z",
          "start_time": "2018-08-06T11:25:17.760361Z"
        },
        "id": "ZM2sF4swt_ze"
      },
      "outputs": [],
      "source": [
        "def V(X, g=lambda x: x):\n",
        "    x_set, f = X\n",
        "    mean = E(X, g)\n",
        "    return np.sum([(g(x_k)-mean)**2 * f(x_k) for x_k in x_set])"
      ]
    },
    {
      "cell_type": "code",
      "execution_count": null,
      "metadata": {
        "ExecuteTime": {
          "end_time": "2018-08-06T11:25:17.768386Z",
          "start_time": "2018-08-06T11:25:17.764699Z"
        },
        "id": "uFQrfyFMt_ze",
        "outputId": "e88deb80-5f5f-43de-baa0-30b525c33f1e"
      },
      "outputs": [
        {
          "data": {
            "text/plain": [
              "2.2222222222222223"
            ]
          },
          "execution_count": 21,
          "metadata": {},
          "output_type": "execute_result"
        }
      ],
      "source": [
        "V(X)"
      ]
    },
    {
      "cell_type": "code",
      "execution_count": null,
      "metadata": {
        "ExecuteTime": {
          "end_time": "2018-08-06T11:25:17.773328Z",
          "start_time": "2018-08-06T11:25:17.769350Z"
        },
        "id": "Cs_x7zH1t_ze",
        "outputId": "80220ae6-1d17-48ee-8fbe-6d2e243e8431"
      },
      "outputs": [
        {
          "data": {
            "text/plain": [
              "8.88888888888889"
            ]
          },
          "execution_count": 22,
          "metadata": {},
          "output_type": "execute_result"
        }
      ],
      "source": [
        "V(X, lambda x: 2*x + 3)"
      ]
    },
    {
      "cell_type": "code",
      "execution_count": null,
      "metadata": {
        "ExecuteTime": {
          "end_time": "2018-08-06T11:25:17.778674Z",
          "start_time": "2018-08-06T11:25:17.774588Z"
        },
        "id": "wi4zoQG3t_zf",
        "outputId": "11d8ec60-e211-4a8b-f4b7-03628c412168"
      },
      "outputs": [
        {
          "data": {
            "text/plain": [
              "8.88888888888889"
            ]
          },
          "execution_count": 23,
          "metadata": {},
          "output_type": "execute_result"
        }
      ],
      "source": [
        "2**2 * V(X)"
      ]
    },
    {
      "cell_type": "markdown",
      "metadata": {
        "id": "KurAspmct_zf"
      },
      "source": [
        "## 2차원 이산형 확률분포"
      ]
    },
    {
      "cell_type": "markdown",
      "metadata": {
        "id": "93imBwc8t_zf"
      },
      "source": [
        "### 2차원 이산형 확률분포의 정의"
      ]
    },
    {
      "cell_type": "code",
      "execution_count": null,
      "metadata": {
        "ExecuteTime": {
          "end_time": "2018-08-06T11:25:17.783029Z",
          "start_time": "2018-08-06T11:25:17.780291Z"
        },
        "id": "kZRpKBvCt_zf"
      },
      "outputs": [],
      "source": [
        "x_set = np.arange(2, 13)\n",
        "y_set = np.arange(1, 7)"
      ]
    },
    {
      "cell_type": "code",
      "execution_count": null,
      "metadata": {
        "ExecuteTime": {
          "end_time": "2018-08-06T11:25:17.788516Z",
          "start_time": "2018-08-06T11:25:17.784611Z"
        },
        "id": "GJSM2B_it_zf"
      },
      "outputs": [],
      "source": [
        "def f_XY(x, y):\n",
        "    if 1 <= y <=6 and 1 <= x - y <= 6:\n",
        "        return y * (x-y) / 441\n",
        "    else:\n",
        "        return 0"
      ]
    },
    {
      "cell_type": "code",
      "execution_count": null,
      "metadata": {
        "ExecuteTime": {
          "end_time": "2018-08-06T11:25:17.793487Z",
          "start_time": "2018-08-06T11:25:17.789901Z"
        },
        "id": "_6nDJ_KIt_zg"
      },
      "outputs": [],
      "source": [
        "XY = [x_set, y_set, f_XY]"
      ]
    },
    {
      "cell_type": "code",
      "execution_count": null,
      "metadata": {
        "ExecuteTime": {
          "end_time": "2018-08-06T11:25:17.932737Z",
          "start_time": "2018-08-06T11:25:17.794592Z"
        },
        "scrolled": false,
        "id": "O8C_XYYnt_zg",
        "outputId": "22c2d667-c16a-47b8-a459-ea246f2335ba"
      },
      "outputs": [
        {
          "data": {
            "image/png": "[encoded data removed]",
            "text/plain": [
              "<Figure size 720x576 with 2 Axes>"
            ]
          },
          "metadata": {
            "needs_background": "light"
          },
          "output_type": "display_data"
        }
      ],
      "source": [
        "prob = np.array([[f_XY(x_i, y_j) for y_j in y_set]\n",
        "                 for x_i in x_set])\n",
        "\n",
        "fig = plt.figure(figsize=(10, 8))\n",
        "ax = fig.add_subplot(111)\n",
        "\n",
        "c = ax.pcolor(prob)\n",
        "ax.set_xticks(np.arange(prob.shape[1]) + 0.5, minor=False)\n",
        "ax.set_yticks(np.arange(prob.shape[0]) + 0.5, minor=False)\n",
        "ax.set_xticklabels(np.arange(1, 7), minor=False)\n",
        "ax.set_yticklabels(np.arange(2, 13), minor=False)\n",
        "# y축을 내림차순의 숫자가 되게 하여, 위 아래를 역전시킨다\n",
        "ax.invert_yaxis()\n",
        "# x축의 눈금을 그래프 위쪽에 표시\n",
        "ax.xaxis.tick_top()\n",
        "fig.colorbar(c, ax=ax)\n",
        "plt.show()"
      ]
    },
    {
      "cell_type": "code",
      "execution_count": null,
      "metadata": {
        "ExecuteTime": {
          "end_time": "2018-08-06T11:25:17.937185Z",
          "start_time": "2018-08-06T11:25:17.934188Z"
        },
        "id": "fPOQ7vHvt_zg",
        "outputId": "a3ece2c0-89a5-4349-98ed-e860b047674d"
      },
      "outputs": [
        {
          "data": {
            "text/plain": [
              "True"
            ]
          },
          "execution_count": 28,
          "metadata": {},
          "output_type": "execute_result"
        }
      ],
      "source": [
        "np.all(prob >= 0)"
      ]
    },
    {
      "cell_type": "code",
      "execution_count": null,
      "metadata": {
        "ExecuteTime": {
          "end_time": "2018-08-06T11:25:17.942400Z",
          "start_time": "2018-08-06T11:25:17.938424Z"
        },
        "id": "pgk5ZXmgt_zg",
        "outputId": "fe1d0377-adc1-44ed-9403-40a9f97a981c"
      },
      "outputs": [
        {
          "data": {
            "text/plain": [
              "1.0"
            ]
          },
          "execution_count": 29,
          "metadata": {},
          "output_type": "execute_result"
        }
      ],
      "source": [
        "np.sum(prob)"
      ]
    },
    {
      "cell_type": "code",
      "execution_count": null,
      "metadata": {
        "ExecuteTime": {
          "end_time": "2018-08-06T11:25:17.948437Z",
          "start_time": "2018-08-06T11:25:17.943951Z"
        },
        "id": "LM1Iz3btt_zg"
      },
      "outputs": [],
      "source": [
        "def f_X(x):\n",
        "    return np.sum([f_XY(x, y_k) for y_k in y_set])"
      ]
    },
    {
      "cell_type": "code",
      "execution_count": null,
      "metadata": {
        "ExecuteTime": {
          "end_time": "2018-08-06T11:25:17.953066Z",
          "start_time": "2018-08-06T11:25:17.949777Z"
        },
        "id": "ANNov8G5t_zh"
      },
      "outputs": [],
      "source": [
        "def f_Y(y):\n",
        "    return np.sum([f_XY(x_k, y) for x_k in x_set])"
      ]
    },
    {
      "cell_type": "code",
      "execution_count": null,
      "metadata": {
        "ExecuteTime": {
          "end_time": "2018-08-06T11:25:17.957088Z",
          "start_time": "2018-08-06T11:25:17.954497Z"
        },
        "id": "RFvJvd2ct_zh"
      },
      "outputs": [],
      "source": [
        "X = [x_set, f_X]\n",
        "Y = [y_set, f_Y]"
      ]
    },
    {
      "cell_type": "code",
      "execution_count": null,
      "metadata": {
        "ExecuteTime": {
          "end_time": "2018-08-06T11:25:18.155840Z",
          "start_time": "2018-08-06T11:25:17.958366Z"
        },
        "id": "B63FYUvtt_zt",
        "outputId": "1444c56d-0402-4e4e-fc06-4b7ac3be4e37"
      },
      "outputs": [
        {
          "data": {
            "image/png": "[encoded data removed]",
            "text/plain": [
              "<Figure size 864x288 with 2 Axes>"
            ]
          },
          "metadata": {
            "needs_background": "light"
          },
          "output_type": "display_data"
        }
      ],
      "source": [
        "prob_x = np.array([f_X(x_k) for x_k in x_set])\n",
        "prob_y = np.array([f_Y(y_k) for y_k in y_set])\n",
        "\n",
        "fig = plt.figure(figsize=(12, 4))\n",
        "ax1 = fig.add_subplot(121)\n",
        "ax2 = fig.add_subplot(122)\n",
        "\n",
        "ax1.bar(x_set, prob_x)\n",
        "ax1.set_title('X_marginal probability distribution')\n",
        "ax1.set_xlabel('X_value')\n",
        "ax1.set_ylabel('probability')\n",
        "ax1.set_xticks(x_set)\n",
        "\n",
        "ax2.bar(y_set, prob_y)\n",
        "ax2.set_title('Y_marginal probability distribution')\n",
        "ax2.set_xlabel('Y_value')\n",
        "ax2.set_ylabel('probability')\n",
        "\n",
        "plt.show()"
      ]
    },
    {
      "cell_type": "markdown",
      "metadata": {
        "id": "EWG7WgiYt_zu"
      },
      "source": [
        "### 2차원 이산형 확률분포의 지표"
      ]
    },
    {
      "cell_type": "code",
      "execution_count": null,
      "metadata": {
        "ExecuteTime": {
          "end_time": "2018-08-06T11:25:18.160597Z",
          "start_time": "2018-08-06T11:25:18.157222Z"
        },
        "id": "NBa9JE5tt_zu",
        "outputId": "55e357ea-3f4a-4811-b770-959c10618a8a"
      },
      "outputs": [
        {
          "data": {
            "text/plain": [
              "8.666666666666666"
            ]
          },
          "execution_count": 35,
          "metadata": {},
          "output_type": "execute_result"
        }
      ],
      "source": [
        "np.sum([x_i * f_XY(x_i, y_j) for x_i in x_set for y_j in y_set])"
      ]
    },
    {
      "cell_type": "code",
      "execution_count": null,
      "metadata": {
        "ExecuteTime": {
          "end_time": "2018-08-06T11:25:18.165682Z",
          "start_time": "2018-08-06T11:25:18.161951Z"
        },
        "id": "UeMrfXwKt_zu"
      },
      "outputs": [],
      "source": [
        "def E(XY, g):\n",
        "    x_set, y_set, f_XY = XY\n",
        "    return np.sum([g(x_i, y_j) * f_XY(x_i, y_j)\n",
        "                   for x_i in x_set for y_j in y_set])"
      ]
    },
    {
      "cell_type": "code",
      "execution_count": null,
      "metadata": {
        "ExecuteTime": {
          "end_time": "2018-08-06T11:25:18.171317Z",
          "start_time": "2018-08-06T11:25:18.166922Z"
        },
        "id": "CPT6Gk7ht_zu",
        "outputId": "e5d2ee8c-7abc-48f5-dbf7-c173d75eba32"
      },
      "outputs": [
        {
          "data": {
            "text/plain": [
              "8.666666666666666"
            ]
          },
          "execution_count": 37,
          "metadata": {},
          "output_type": "execute_result"
        }
      ],
      "source": [
        "mean_X = E(XY, lambda x, y: x)\n",
        "mean_X"
      ]
    },
    {
      "cell_type": "code",
      "execution_count": null,
      "metadata": {
        "ExecuteTime": {
          "end_time": "2018-08-06T11:25:18.176800Z",
          "start_time": "2018-08-06T11:25:18.172606Z"
        },
        "id": "ZJ-sS8Hqt_zu",
        "outputId": "232ea8d1-4b24-4bae-f135-e66b0d247155"
      },
      "outputs": [
        {
          "data": {
            "text/plain": [
              "4.333333333333333"
            ]
          },
          "execution_count": 38,
          "metadata": {},
          "output_type": "execute_result"
        }
      ],
      "source": [
        "mean_Y = E(XY, lambda x, y: y)\n",
        "mean_Y"
      ]
    },
    {
      "cell_type": "code",
      "execution_count": null,
      "metadata": {
        "ExecuteTime": {
          "end_time": "2018-08-06T11:25:18.181411Z",
          "start_time": "2018-08-06T11:25:18.179270Z"
        },
        "id": "XHsWnqYSt_zu"
      },
      "outputs": [],
      "source": [
        "a, b = 2, 3"
      ]
    },
    {
      "cell_type": "code",
      "execution_count": null,
      "metadata": {
        "ExecuteTime": {
          "end_time": "2018-08-06T11:25:18.188112Z",
          "start_time": "2018-08-06T11:25:18.182684Z"
        },
        "id": "QM9xmROHt_zv",
        "outputId": "d8a11ec5-813b-48b2-b75e-d9054c8c94d6"
      },
      "outputs": [
        {
          "data": {
            "text/plain": [
              "30.333333333333332"
            ]
          },
          "execution_count": 40,
          "metadata": {},
          "output_type": "execute_result"
        }
      ],
      "source": [
        "E(XY, lambda x, y: a*x + b*y)"
      ]
    },
    {
      "cell_type": "code",
      "execution_count": null,
      "metadata": {
        "ExecuteTime": {
          "end_time": "2018-08-06T11:25:18.192651Z",
          "start_time": "2018-08-06T11:25:18.189335Z"
        },
        "id": "GcNl_8Qjt_zv",
        "outputId": "19350540-243a-487e-bca3-00c685a0f13e"
      },
      "outputs": [
        {
          "data": {
            "text/plain": [
              "30.333333333333332"
            ]
          },
          "execution_count": 41,
          "metadata": {},
          "output_type": "execute_result"
        }
      ],
      "source": [
        "a * mean_X + b * mean_Y"
      ]
    },
    {
      "cell_type": "code",
      "execution_count": null,
      "metadata": {
        "ExecuteTime": {
          "end_time": "2018-08-06T11:25:18.198072Z",
          "start_time": "2018-08-06T11:25:18.193879Z"
        },
        "id": "wTHgZpbCt_zv",
        "outputId": "eaa03813-090d-4abe-d975-16b14d619db2"
      },
      "outputs": [
        {
          "data": {
            "text/plain": [
              "4.444444444444444"
            ]
          },
          "execution_count": 42,
          "metadata": {},
          "output_type": "execute_result"
        }
      ],
      "source": [
        "np.sum([(x_i-mean_X)**2 * f_XY(x_i, y_j)\n",
        "       for x_i in x_set for y_j in y_set])"
      ]
    },
    {
      "cell_type": "code",
      "execution_count": null,
      "metadata": {
        "ExecuteTime": {
          "end_time": "2018-08-06T11:25:18.202487Z",
          "start_time": "2018-08-06T11:25:18.199151Z"
        },
        "id": "cJXuAOLNt_zv"
      },
      "outputs": [],
      "source": [
        "def V(XY, g):\n",
        "    x_set, y_set, f_XY = XY\n",
        "    mean = E(XY, g)\n",
        "    return np.sum([(g(x_i, y_j)-mean)**2 * f_XY(x_i, y_j)\n",
        "                   for x_i in x_set for y_j in y_set])"
      ]
    },
    {
      "cell_type": "code",
      "execution_count": null,
      "metadata": {
        "ExecuteTime": {
          "end_time": "2018-08-06T11:25:18.208121Z",
          "start_time": "2018-08-06T11:25:18.203578Z"
        },
        "id": "dgrQ9GXat_zv",
        "outputId": "cee52129-115a-4cb8-a274-7b63cecc214e"
      },
      "outputs": [
        {
          "data": {
            "text/plain": [
              "4.444444444444444"
            ]
          },
          "execution_count": 44,
          "metadata": {},
          "output_type": "execute_result"
        }
      ],
      "source": [
        "var_X = V(XY, g=lambda x, y: x)\n",
        "var_X"
      ]
    },
    {
      "cell_type": "code",
      "execution_count": null,
      "metadata": {
        "ExecuteTime": {
          "end_time": "2018-08-06T11:25:18.214829Z",
          "start_time": "2018-08-06T11:25:18.209153Z"
        },
        "id": "uMjcNHRFt_zv",
        "outputId": "8ec1def4-3ecc-467c-836b-b4044c51452b"
      },
      "outputs": [
        {
          "data": {
            "text/plain": [
              "2.2222222222222223"
            ]
          },
          "execution_count": 45,
          "metadata": {},
          "output_type": "execute_result"
        }
      ],
      "source": [
        "var_Y = V(XY, g=lambda x, y: y)\n",
        "var_Y"
      ]
    },
    {
      "cell_type": "code",
      "execution_count": null,
      "metadata": {
        "ExecuteTime": {
          "end_time": "2018-08-06T11:25:18.220141Z",
          "start_time": "2018-08-06T11:25:18.215853Z"
        },
        "id": "GA2TRkCyt_zw"
      },
      "outputs": [],
      "source": [
        "def Cov(XY):\n",
        "    x_set, y_set, f_XY = XY\n",
        "    mean_X = E(XY, lambda x, y: x)\n",
        "    mean_Y = E(XY, lambda x, y: y)\n",
        "    return np.sum([(x_i-mean_X) * (y_j-mean_Y) * f_XY(x_i, y_j)\n",
        "                    for x_i in x_set for y_j in y_set])"
      ]
    },
    {
      "cell_type": "code",
      "execution_count": null,
      "metadata": {
        "ExecuteTime": {
          "end_time": "2018-08-06T11:25:18.226352Z",
          "start_time": "2018-08-06T11:25:18.221226Z"
        },
        "id": "gF95jnmht_zw",
        "outputId": "a4317661-823e-4031-af3b-842d1e813a40"
      },
      "outputs": [
        {
          "data": {
            "text/plain": [
              "2.222222222222222"
            ]
          },
          "execution_count": 47,
          "metadata": {},
          "output_type": "execute_result"
        }
      ],
      "source": [
        "cov_xy = Cov(XY)\n",
        "cov_xy"
      ]
    },
    {
      "cell_type": "code",
      "execution_count": null,
      "metadata": {
        "ExecuteTime": {
          "end_time": "2018-08-06T11:25:18.232830Z",
          "start_time": "2018-08-06T11:25:18.227964Z"
        },
        "id": "m3-XQQ5et_zw",
        "outputId": "825473b7-810e-4b43-d622-333481879d2a"
      },
      "outputs": [
        {
          "data": {
            "text/plain": [
              "64.44444444444444"
            ]
          },
          "execution_count": 48,
          "metadata": {},
          "output_type": "execute_result"
        }
      ],
      "source": [
        "V(XY, lambda x, y: a*x + b*y)"
      ]
    },
    {
      "cell_type": "code",
      "execution_count": null,
      "metadata": {
        "ExecuteTime": {
          "end_time": "2018-08-06T11:25:18.238309Z",
          "start_time": "2018-08-06T11:25:18.234241Z"
        },
        "id": "qy-ceFKMt_zw",
        "outputId": "2f65de59-5520-48b9-c1e6-2f03bf286b83"
      },
      "outputs": [
        {
          "data": {
            "text/plain": [
              "64.44444444444443"
            ]
          },
          "execution_count": 49,
          "metadata": {},
          "output_type": "execute_result"
        }
      ],
      "source": [
        "a**2 * var_X + b**2 * var_Y + 2*a*b * cov_xy"
      ]
    },
    {
      "cell_type": "code",
      "execution_count": null,
      "metadata": {
        "ExecuteTime": {
          "end_time": "2018-08-06T11:25:18.243046Z",
          "start_time": "2018-08-06T11:25:18.239669Z"
        },
        "id": "5jUMdmXxt_zx",
        "outputId": "6f01a006-7aa2-4f4d-8e8e-c4a9f8ff0160"
      },
      "outputs": [
        {
          "data": {
            "text/plain": [
              "0.7071067811865474"
            ]
          },
          "execution_count": 50,
          "metadata": {},
          "output_type": "execute_result"
        }
      ],
      "source": [
        "cov_xy / np.sqrt(var_X * var_Y)"
      ]
    },
    {
      "cell_type": "code",
      "execution_count": null,
      "metadata": {
        "id": "TvD0WOFIt_zx"
      },
      "outputs": [],
      "source": []
    }
  ],
  "metadata": {
    "kernelspec": {
      "display_name": "Python 3",
      "language": "python",
      "name": "python3"
    },
    "language_info": {
      "codemirror_mode": {
        "name": "ipython",
        "version": 3
      },
      "file_extension": ".py",
      "mimetype": "text/x-python",
      "name": "python",
      "nbconvert_exporter": "python",
      "pygments_lexer": "ipython3",
      "version": "3.7.3"
    },
    "toc": {
      "nav_menu": {},
      "number_sections": true,
      "sideBar": true,
      "skip_h1_title": false,
      "toc_cell": false,
      "toc_position": {
        "height": "911px",
        "left": "0px",
        "right": "1493px",
        "top": "107px",
        "width": "212px"
      },
      "toc_section_display": "block",
      "toc_window_display": false
    },
    "colab": {
      "provenance": [],
      "include_colab_link": true
    }
  },
  "nbformat": 4,
  "nbformat_minor": 0
}